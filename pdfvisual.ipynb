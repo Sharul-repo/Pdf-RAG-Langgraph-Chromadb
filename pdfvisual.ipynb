{
 "cells": [
  {
   "cell_type": "code",
   "execution_count": 9,
   "id": "4d94766c",
   "metadata": {},
   "outputs": [
    {
     "data": {
      "text/plain": [
       "True"
      ]
     },
     "execution_count": 9,
     "metadata": {},
     "output_type": "execute_result"
    }
   ],
   "source": [
    "from dotenv import load_dotenv\n",
    "from langchain_openai import ChatOpenAI\n",
    "from typing import TypedDict,List,Annotated,Tuple,Any,Optional\n",
    "from langgraph.graph import StateGraph,START,END\n",
    "from PyPDF2 import PdfReader\n",
    "# from langchain_core.tools import tool\n",
    "# from langgraph.prebuilt import ToolNode,tools_condition\n",
    "from langchain_community.vectorstores import Chroma\n",
    "from langchain_community.embeddings import HuggingFaceEmbeddings \n",
    "from langchain.text_splitter import RecursiveCharacterTextSplitter\n",
    "\n",
    "load_dotenv()"
   ]
  },
  {
   "cell_type": "code",
   "execution_count": 7,
   "id": "ee26a66f",
   "metadata": {},
   "outputs": [],
   "source": [
    "class DocState(TypedDict):\n",
    "    uploaded_file: Optional[str]   # the PDF file object from Streamlit uploader\n",
    "    vectorstore: Optional[Chroma]\n",
    "    conversation_history: List[Tuple[str, str]]\n",
    "    user_query: str\n",
    "    answer: str\n"
   ]
  },
  {
   "cell_type": "code",
   "execution_count": 24,
   "id": "bb69cad9",
   "metadata": {},
   "outputs": [],
   "source": [
    "def document_extracter_agent(state:DocState)->DocState:\n",
    "    extracted_text=\"The chatbot can now use tools to answer user questions, but it does not remember the context of previous interactions. This limits its ability to have coherent, multi-turn conversations.\\nLangGraph solves this problem through persistent checkpointing. If you provide a checkpointer when compiling the graph and a thread_id when calling your graph, LangGraph automatically saves the state after each step. When you invoke the graph again using the same thread_id, the graph loads its saved state, allowing the chatbot to pick up where it left off.\"\n",
    "    splitter = RecursiveCharacterTextSplitter(chunk_size=1000, chunk_overlap=200)\n",
    "    chunks = splitter.split_text(extracted_text)\n",
    "    embeddings = HuggingFaceEmbeddings(model_name=\"sentence-transformers/all-MiniLM-L6-v2\")\n",
    "\n",
    "    # 4. Store in Chroma (in-memory or persist locally)\n",
    "    vectorstore = Chroma.from_texts(chunks, embeddings, persist_directory=\".chroma_db\")\n",
    "    print(vectorstore)\n",
    "\n",
    "    return {\n",
    "        **state,\n",
    "        \"vectorstore\":vectorstore\n",
    "    }\n",
    "\n",
    "def query_agent(state: DocState)->DocState:\n",
    "    vectorstore = state.get(\"vectorstore\")\n",
    "    user_query = state.get(\"user_query\", \"\")\n",
    "    history = state.get(\"conversation_history\", [])\n",
    "\n",
    "    if vectorstore is None:\n",
    "        return {**state, \"answer\": \"⚠️ No document uploaded yet.\"}\n",
    "\n",
    "    # Retrieve docs\n",
    "    retriever = vectorstore.as_retriever(search_kwargs={\"k\": 3})\n",
    "    docs = retriever.get_relevant_documents(user_query)\n",
    "    context = \"\\n\".join([d.page_content for d in docs])\n",
    "\n",
    "    prompt = f\"\"\"You are an assistant that answers questions.\n",
    "If the user's question is related to the document, use the context below.\n",
    "If it is not, answer normally.\n",
    "\n",
    "Context:\n",
    "{context}\n",
    "\n",
    "Conversation History:\n",
    "{history}\n",
    "\n",
    "User Question:\n",
    "{user_query}\n",
    "\"\"\"\n",
    "\n",
    "    # Use free LLM (swap with DeepSeek or any model you want)\n",
    "    llm = ChatOpenAI(model=\"openai/gpt-oss-20b:free\", temperature=0.3)\n",
    "    response = llm.invoke(prompt)\n",
    "\n",
    "    answer = response.content if hasattr(response, \"content\") else str(response)\n",
    "\n",
    "    # Update history\n",
    "    updated_history = history + [(user_query, answer)]\n",
    "\n",
    "    return {\n",
    "        **state,\n",
    "        \"conversation_history\": updated_history,\n",
    "        \"answer\": answer\n",
    "    }\n",
    "\n",
    "def route_based_on_state(state: DocState) -> str:\n",
    "    if state.get(\"vectorstore\") is None:\n",
    "        return \"docextractagent\"\n",
    "    return \"queryagent\"\n"
   ]
  },
  {
   "cell_type": "code",
   "execution_count": 18,
   "id": "1e158d14",
   "metadata": {},
   "outputs": [],
   "source": [
    "graph_builder=StateGraph(DocState)\n",
    "\n",
    "graph_builder.add_node(\"docextractagent\", document_extracter_agent)\n",
    "graph_builder.add_node(\"queryagent\", query_agent)\n",
    "\n",
    "# Conditional routing from START\n",
    "graph_builder.add_conditional_edges(\n",
    "    START,\n",
    "    route_based_on_state,\n",
    "    {\n",
    "        \"docextractagent\": \"docextractagent\",\n",
    "        \"queryagent\": \"queryagent\"\n",
    "    }\n",
    ")\n",
    "\n",
    "# Normal flow if extraction happens\n",
    "graph_builder.add_edge(\"docextractagent\", \"queryagent\")\n",
    "\n",
    "# End after answering\n",
    "graph_builder.add_edge(\"queryagent\", END)\n",
    "\n",
    "graph = graph_builder.compile()\n",
    "\n",
    "# state={\n",
    "#     \"uploaded_file\": \"Health fitness.pdf\" ,  # the PDF file object from Streamlit uploader\n",
    "#     \"vectorstore\": None ,\n",
    "#     \"conversation_history\": [(\"\",\"\")],\n",
    "#     \"user_query\": \"\",\n",
    "#     \"answer\": \"\"\n",
    "# }\n"
   ]
  },
  {
   "cell_type": "code",
   "execution_count": 25,
   "id": "b86c6dbd",
   "metadata": {},
   "outputs": [
    {
     "name": "stdout",
     "output_type": "stream",
     "text": [
      "<langchain_community.vectorstores.chroma.Chroma object at 0x0000027094AE8640>\n"
     ]
    },
    {
     "data": {
      "text/plain": [
       "{'uploaded_file': 'Health fitness.pdf',\n",
       " 'vectorstore': <langchain_community.vectorstores.chroma.Chroma at 0x27094ae8640>,\n",
       " 'conversation_history': [('', ''),\n",
       "  ('what is this pdf about?',\n",
       "   \"Based on the provided context, **there is no mention of a PDF document**. The context exclusively discusses:\\n\\n1.  **The Problem:** Chatbots using tools often lack memory of previous interactions, making multi-turn conversations difficult.\\n2.  **The Solution (LangGraph):** LangGraph uses **persistent checkpointing** to solve this:\\n    *   You provide a `checkpointer` when compiling the graph.\\n    *   You provide a `thread_id` when calling the graph.\\n    *   LangGraph automatically saves the state after each step.\\n    *   When called again with the same `thread_id`, it loads the saved state, allowing the conversation to continue seamlessly.\\n\\n**In short, the context is about how LangGraph enables stateful, multi-turn conversations for tool-using chatbots through checkpointing.** It does not describe the contents of any PDF.\\n\\nIf you're asking about a *specific PDF* you have in mind, please provide more details about it or its content so I can help!\")],\n",
       " 'user_query': 'what is this pdf about?',\n",
       " 'answer': \"Based on the provided context, **there is no mention of a PDF document**. The context exclusively discusses:\\n\\n1.  **The Problem:** Chatbots using tools often lack memory of previous interactions, making multi-turn conversations difficult.\\n2.  **The Solution (LangGraph):** LangGraph uses **persistent checkpointing** to solve this:\\n    *   You provide a `checkpointer` when compiling the graph.\\n    *   You provide a `thread_id` when calling the graph.\\n    *   LangGraph automatically saves the state after each step.\\n    *   When called again with the same `thread_id`, it loads the saved state, allowing the conversation to continue seamlessly.\\n\\n**In short, the context is about how LangGraph enables stateful, multi-turn conversations for tool-using chatbots through checkpointing.** It does not describe the contents of any PDF.\\n\\nIf you're asking about a *specific PDF* you have in mind, please provide more details about it or its content so I can help!\"}"
      ]
     },
     "execution_count": 25,
     "metadata": {},
     "output_type": "execute_result"
    }
   ],
   "source": [
    "graph.invoke({\n",
    "    \"uploaded_file\": \"Health fitness.pdf\" ,  # the PDF file object from Streamlit uploader\n",
    "    \"vectorstore\": None ,\n",
    "    \"conversation_history\": [(\"\",\"\")],\n",
    "    \"user_query\": \"what is this pdf about?\",\n",
    "    \"answer\": \"\"\n",
    "}\n",
    ")"
   ]
  },
  {
   "cell_type": "code",
   "execution_count": 26,
   "id": "f3d664d9",
   "metadata": {},
   "outputs": [
    {
     "name": "stdout",
     "output_type": "stream",
     "text": [
      "<langchain_community.vectorstores.chroma.Chroma object at 0x0000027083092330>\n"
     ]
    }
   ],
   "source": [
    "# First call\n",
    "state = {\n",
    "    \"uploaded_file\": \"Health fitness.pdf\",\n",
    "    \"vectorstore\": None,\n",
    "    \"conversation_history\": [],\n",
    "    \"user_query\": \"what is this pdf about?\",\n",
    "    \"answer\": \"\"\n",
    "}\n",
    "\n",
    "result = graph.invoke(state)\n",
    "\n",
    "# Save updated conversation history\n",
    "conversation_history = result[\"conversation_history\"]"
   ]
  },
  {
   "cell_type": "code",
   "execution_count": 27,
   "id": "5362cf5f",
   "metadata": {},
   "outputs": [
    {
     "data": {
      "text/plain": [
       "{'uploaded_file': 'Health fitness.pdf',\n",
       " 'vectorstore': <langchain_community.vectorstores.chroma.Chroma at 0x27083092330>,\n",
       " 'conversation_history': [('what is this pdf about?',\n",
       "   'Based solely on the provided context, **this PDF is about solving the problem of chatbot context memory in multi-turn conversations using LangGraph.**\\n\\nSpecifically, it explains:\\n\\n1.  **The Problem:** Chatbots using tools often lack memory of previous interactions, making coherent multi-turn conversations difficult.\\n2.  **The Solution (LangGraph):** LangGraph addresses this through **persistent checkpointing**.\\n3.  **How it Works:**\\n    *   You provide a *checkpointer* when compiling the LangGraph.\\n    *   You provide a `thread_id` when calling the graph.\\n    *   LangGraph automatically saves the state after each step.\\n    *   When you call the graph again with the *same* `thread_id`, it loads the saved state, allowing the conversation to continue seamlessly from where it left off.\\n\\n**In short: The PDF describes how LangGraph uses persistent checkpointing with thread IDs to give chatbots memory across multiple conversation turns.**')],\n",
       " 'user_query': 'what is this pdf about?',\n",
       " 'answer': 'Based solely on the provided context, **this PDF is about solving the problem of chatbot context memory in multi-turn conversations using LangGraph.**\\n\\nSpecifically, it explains:\\n\\n1.  **The Problem:** Chatbots using tools often lack memory of previous interactions, making coherent multi-turn conversations difficult.\\n2.  **The Solution (LangGraph):** LangGraph addresses this through **persistent checkpointing**.\\n3.  **How it Works:**\\n    *   You provide a *checkpointer* when compiling the LangGraph.\\n    *   You provide a `thread_id` when calling the graph.\\n    *   LangGraph automatically saves the state after each step.\\n    *   When you call the graph again with the *same* `thread_id`, it loads the saved state, allowing the conversation to continue seamlessly from where it left off.\\n\\n**In short: The PDF describes how LangGraph uses persistent checkpointing with thread IDs to give chatbots memory across multiple conversation turns.**'}"
      ]
     },
     "execution_count": 27,
     "metadata": {},
     "output_type": "execute_result"
    }
   ],
   "source": [
    "result"
   ]
  },
  {
   "cell_type": "code",
   "execution_count": 28,
   "id": "b6292822",
   "metadata": {},
   "outputs": [
    {
     "data": {
      "text/plain": [
       "[('what is this pdf about?',\n",
       "  'Based solely on the provided context, **this PDF is about solving the problem of chatbot context memory in multi-turn conversations using LangGraph.**\\n\\nSpecifically, it explains:\\n\\n1.  **The Problem:** Chatbots using tools often lack memory of previous interactions, making coherent multi-turn conversations difficult.\\n2.  **The Solution (LangGraph):** LangGraph addresses this through **persistent checkpointing**.\\n3.  **How it Works:**\\n    *   You provide a *checkpointer* when compiling the LangGraph.\\n    *   You provide a `thread_id` when calling the graph.\\n    *   LangGraph automatically saves the state after each step.\\n    *   When you call the graph again with the *same* `thread_id`, it loads the saved state, allowing the conversation to continue seamlessly from where it left off.\\n\\n**In short: The PDF describes how LangGraph uses persistent checkpointing with thread IDs to give chatbots memory across multiple conversation turns.**')]"
      ]
     },
     "execution_count": 28,
     "metadata": {},
     "output_type": "execute_result"
    }
   ],
   "source": [
    "conversation_history"
   ]
  },
  {
   "cell_type": "code",
   "execution_count": 29,
   "id": "a866974a",
   "metadata": {},
   "outputs": [
    {
     "data": {
      "text/plain": [
       "{'uploaded_file': 'Health fitness.pdf',\n",
       " 'vectorstore': <langchain_community.vectorstores.chroma.Chroma at 0x27083092330>,\n",
       " 'conversation_history': [('what is this pdf about?',\n",
       "   'Based solely on the provided context, **this PDF is about solving the problem of chatbot context memory in multi-turn conversations using LangGraph.**\\n\\nSpecifically, it explains:\\n\\n1.  **The Problem:** Chatbots using tools often lack memory of previous interactions, making coherent multi-turn conversations difficult.\\n2.  **The Solution (LangGraph):** LangGraph addresses this through **persistent checkpointing**.\\n3.  **How it Works:**\\n    *   You provide a *checkpointer* when compiling the LangGraph.\\n    *   You provide a `thread_id` when calling the graph.\\n    *   LangGraph automatically saves the state after each step.\\n    *   When you call the graph again with the *same* `thread_id`, it loads the saved state, allowing the conversation to continue seamlessly from where it left off.\\n\\n**In short: The PDF describes how LangGraph uses persistent checkpointing with thread IDs to give chatbots memory across multiple conversation turns.**'),\n",
       "  ('give me diet tips from the pdf',\n",
       "   'Based solely on the provided context, **the PDF does not contain any information about diet tips.**\\n\\nThe context repeatedly states that the PDF is exclusively about:\\n\\n1.  **The Problem:** Chatbots using tools lack memory of previous interactions, hindering multi-turn conversations.\\n2.  **The Solution (LangGraph):** Using persistent checkpointing.\\n3.  **How LangGraph Works:**\\n    *   Providing a *checkpointer* during graph compilation.\\n    *   Providing a `thread_id` when calling the graph.\\n    *   LangGraph automatically saves state after each step.\\n    *   Calling the graph again with the same `thread_id` loads the saved state, allowing the conversation to continue seamlessly.\\n\\n**In short: The PDF is a technical document explaining how LangGraph solves chatbot context memory using checkpointing and thread IDs. It does not discuss diet, nutrition, or health topics.**')],\n",
       " 'user_query': 'give me diet tips from the pdf',\n",
       " 'answer': 'Based solely on the provided context, **the PDF does not contain any information about diet tips.**\\n\\nThe context repeatedly states that the PDF is exclusively about:\\n\\n1.  **The Problem:** Chatbots using tools lack memory of previous interactions, hindering multi-turn conversations.\\n2.  **The Solution (LangGraph):** Using persistent checkpointing.\\n3.  **How LangGraph Works:**\\n    *   Providing a *checkpointer* during graph compilation.\\n    *   Providing a `thread_id` when calling the graph.\\n    *   LangGraph automatically saves state after each step.\\n    *   Calling the graph again with the same `thread_id` loads the saved state, allowing the conversation to continue seamlessly.\\n\\n**In short: The PDF is a technical document explaining how LangGraph solves chatbot context memory using checkpointing and thread IDs. It does not discuss diet, nutrition, or health topics.**'}"
      ]
     },
     "execution_count": 29,
     "metadata": {},
     "output_type": "execute_result"
    }
   ],
   "source": [
    "state = {\n",
    "    **result,  # keep vectorstore, etc.\n",
    "    \"user_query\": \"give me diet tips from the pdf\",\n",
    "    \"conversation_history\": conversation_history\n",
    "}\n",
    "\n",
    "result = graph.invoke(state)\n",
    "result"
   ]
  },
  {
   "cell_type": "code",
   "execution_count": 14,
   "id": "42e15294",
   "metadata": {},
   "outputs": [
    {
     "data": {
      "image/png": "[encoded data removed]",
      "text/plain": [
       "<IPython.core.display.Image object>"
      ]
     },
     "metadata": {},
     "output_type": "display_data"
    }
   ],
   "source": [
    "from IPython.display import Image,display\n",
    "\n",
    "display(Image(graph.get_graph().draw_mermaid_png()))"
   ]
  },
  {
   "cell_type": "code",
   "execution_count": null,
   "id": "74d04282",
   "metadata": {},
   "outputs": [],
   "source": []
  }
 ],
 "metadata": {
  "kernelspec": {
   "display_name": "pdfchat",
   "language": "python",
   "name": "python3"
  },
  "language_info": {
   "codemirror_mode": {
    "name": "ipython",
    "version": 3
   },
   "file_extension": ".py",
   "mimetype": "text/x-python",
   "name": "python",
   "nbconvert_exporter": "python",
   "pygments_lexer": "ipython3",
   "version": "3.13.0"
  }
 },
 "nbformat": 4,
 "nbformat_minor": 5
}
